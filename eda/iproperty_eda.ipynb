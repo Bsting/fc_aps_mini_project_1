{
 "cells": [
  {
   "cell_type": "markdown",
   "id": "78aa1279-a9a3-4795-8b0b-81420370cccb",
   "metadata": {
    "tags": []
   },
   "source": [
    "# Data Description\n",
    "\n",
    "The dataset consists of data scraped from __[PropertyGuru.com.my](https://www.propertyguru.com.my/new-property-launch)__ on 1st February 2024. Property.com.my is one of the most comprehensive Malaysia Property website. The dataset contains detail information of new property listed for sell on the website. The objective is to analyze what are the factors that impacted the housing price most."
   ]
  },
  {
   "cell_type": "markdown",
   "id": "b80ce41b-a809-4ef6-8b5a-925844489ac5",
   "metadata": {},
   "source": [
    "### About the Dataset"
   ]
  },
  {
   "cell_type": "markdown",
   "id": "ae13a479-8ae4-4687-a796-d4cc63c4974d",
   "metadata": {},
   "source": [
    "- __title__ -  Title\n",
    "- __status__ - Status, example New Launch, Open for Sale etc\n",
    "- __type__ - Type, example Apartment, Condominium, etc\n",
    "- __tenure__ - Tenure, example Freehold, Leasehold etc\n",
    "- __price__ - Price in RM\n",
    "- __built_up_size__ - Built up size in square feet\n",
    "- __bedroom__ - Number of bedroom\n",
    "- __bathroom__ - Number of bathroom\n",
    "- __car_park__ - Number of car park\n",
    "- __address__ - Address\n",
    "- __description__ - Description\n",
    "- __link__ - Link to project information"
   ]
  },
  {
   "cell_type": "code",
   "execution_count": 116,
   "id": "6c8d2527-9de5-4c26-be0c-b7b45d705f69",
   "metadata": {},
   "outputs": [],
   "source": [
    "# import required packages\n",
    "import pandas as pd\n",
    "import numpy as np\n",
    "import re\n",
    "import seaborn as sns\n",
    "from matplotlib import pyplot as plt\n",
    "\n",
    "# to display chart correctly\n",
    "%matplotlib inline\n",
    "plt.rcParams['figure.figsize'] = (5, 3)\n",
    "plt.rcParams['figure.dpi'] = 75"
   ]
  },
  {
   "cell_type": "markdown",
   "id": "81cabb38-43d4-4c74-893b-ebadc513c28e",
   "metadata": {},
   "source": [
    "### Understand the Dataset"
   ]
  },
  {
   "cell_type": "code",
   "execution_count": 117,
   "id": "7362eeca-8f79-44ac-92f2-a2ca11275fc9",
   "metadata": {
    "tags": []
   },
   "outputs": [
    {
     "data": {
      "text/html": [
       "<div>\n",
       "<style scoped>\n",
       "    .dataframe tbody tr th:only-of-type {\n",
       "        vertical-align: middle;\n",
       "    }\n",
       "\n",
       "    .dataframe tbody tr th {\n",
       "        vertical-align: top;\n",
       "    }\n",
       "\n",
       "    .dataframe thead th {\n",
       "        text-align: right;\n",
       "    }\n",
       "</style>\n",
       "<table border=\"1\" class=\"dataframe\">\n",
       "  <thead>\n",
       "    <tr style=\"text-align: right;\">\n",
       "      <th></th>\n",
       "      <th>title</th>\n",
       "      <th>status</th>\n",
       "      <th>type</th>\n",
       "      <th>tenure</th>\n",
       "      <th>land_title</th>\n",
       "      <th>price</th>\n",
       "      <th>built_up_size</th>\n",
       "      <th>bedroom</th>\n",
       "      <th>bathroom</th>\n",
       "      <th>car_park</th>\n",
       "      <th>address</th>\n",
       "      <th>description</th>\n",
       "      <th>link</th>\n",
       "    </tr>\n",
       "  </thead>\n",
       "  <tbody>\n",
       "    <tr>\n",
       "      <th>0</th>\n",
       "      <td>Amverton Greens</td>\n",
       "      <td>Open for Sale</td>\n",
       "      <td>Apartment</td>\n",
       "      <td>Freehold</td>\n",
       "      <td>Residential</td>\n",
       "      <td>473499.0</td>\n",
       "      <td>953 sq. ft.</td>\n",
       "      <td>3</td>\n",
       "      <td>2</td>\n",
       "      <td>2</td>\n",
       "      <td>Kota Kemuning, S...</td>\n",
       "      <td>Ready to Move In...</td>\n",
       "      <td>https://www.ipro...</td>\n",
       "    </tr>\n",
       "    <tr>\n",
       "      <th>1</th>\n",
       "      <td>Amverton Greens</td>\n",
       "      <td>Open for Sale</td>\n",
       "      <td>Apartment</td>\n",
       "      <td>Freehold</td>\n",
       "      <td>Residential</td>\n",
       "      <td>555579.0</td>\n",
       "      <td>1,068 sq. ft.</td>\n",
       "      <td>3</td>\n",
       "      <td>2</td>\n",
       "      <td>2</td>\n",
       "      <td>Kota Kemuning, S...</td>\n",
       "      <td>Ready to Move In...</td>\n",
       "      <td>https://www.ipro...</td>\n",
       "    </tr>\n",
       "    <tr>\n",
       "      <th>2</th>\n",
       "      <td>Amverton Greens</td>\n",
       "      <td>Open for Sale</td>\n",
       "      <td>Apartment</td>\n",
       "      <td>Freehold</td>\n",
       "      <td>Residential</td>\n",
       "      <td>582084.0</td>\n",
       "      <td>1,180 sq. ft.</td>\n",
       "      <td>4</td>\n",
       "      <td>4</td>\n",
       "      <td>2</td>\n",
       "      <td>Kota Kemuning, S...</td>\n",
       "      <td>Ready to Move In...</td>\n",
       "      <td>https://www.ipro...</td>\n",
       "    </tr>\n",
       "    <tr>\n",
       "      <th>3</th>\n",
       "      <td>JHomes</td>\n",
       "      <td>Open for Sale</td>\n",
       "      <td>Serviced Residence</td>\n",
       "      <td>Freehold</td>\n",
       "      <td>Residential</td>\n",
       "      <td>676800.0</td>\n",
       "      <td>1464</td>\n",
       "      <td>4</td>\n",
       "      <td>3</td>\n",
       "      <td>2</td>\n",
       "      <td>Kajang, Selangor</td>\n",
       "      <td>Nestled amidst l...</td>\n",
       "      <td>https://www.ipro...</td>\n",
       "    </tr>\n",
       "    <tr>\n",
       "      <th>4</th>\n",
       "      <td>JHomes</td>\n",
       "      <td>Open for Sale</td>\n",
       "      <td>Serviced Residence</td>\n",
       "      <td>Freehold</td>\n",
       "      <td>Residential</td>\n",
       "      <td>678800.0</td>\n",
       "      <td>1464</td>\n",
       "      <td>4</td>\n",
       "      <td>3</td>\n",
       "      <td>2</td>\n",
       "      <td>Kajang, Selangor</td>\n",
       "      <td>Nestled amidst l...</td>\n",
       "      <td>https://www.ipro...</td>\n",
       "    </tr>\n",
       "  </tbody>\n",
       "</table>\n",
       "</div>"
      ],
      "text/plain": [
       "             title         status                type    tenure   land_title  \\\n",
       "0  Amverton Greens  Open for Sale           Apartment  Freehold  Residential   \n",
       "1  Amverton Greens  Open for Sale           Apartment  Freehold  Residential   \n",
       "2  Amverton Greens  Open for Sale           Apartment  Freehold  Residential   \n",
       "3           JHomes  Open for Sale  Serviced Residence  Freehold  Residential   \n",
       "4           JHomes  Open for Sale  Serviced Residence  Freehold  Residential   \n",
       "\n",
       "      price  built_up_size  bedroom  bathroom  car_park              address  \\\n",
       "0  473499.0    953 sq. ft.        3         2         2  Kota Kemuning, S...   \n",
       "1  555579.0  1,068 sq. ft.        3         2         2  Kota Kemuning, S...   \n",
       "2  582084.0  1,180 sq. ft.        4         4         2  Kota Kemuning, S...   \n",
       "3  676800.0           1464        4         3         2     Kajang, Selangor   \n",
       "4  678800.0           1464        4         3         2     Kajang, Selangor   \n",
       "\n",
       "           description                 link  \n",
       "0  Ready to Move In...  https://www.ipro...  \n",
       "1  Ready to Move In...  https://www.ipro...  \n",
       "2  Ready to Move In...  https://www.ipro...  \n",
       "3  Nestled amidst l...  https://www.ipro...  \n",
       "4  Nestled amidst l...  https://www.ipro...  "
      ]
     },
     "execution_count": 117,
     "metadata": {},
     "output_type": "execute_result"
    }
   ],
   "source": [
    "date = '2024-02-01'\n",
    "# read the dataset to data frame\n",
    "df = pd.read_csv(f'..\\data\\iproperty_new_listed_projects_{date}.csv')\n",
    "\n",
    "# see the data structure from first 5 rows\n",
    "df.head()"
   ]
  },
  {
   "cell_type": "code",
   "execution_count": 118,
   "id": "0939f69b-5cb1-47ff-8e12-1ee972bdded6",
   "metadata": {
    "tags": []
   },
   "outputs": [
    {
     "name": "stdout",
     "output_type": "stream",
     "text": [
      "<class 'pandas.core.frame.DataFrame'>\n",
      "RangeIndex: 281 entries, 0 to 280\n",
      "Data columns (total 13 columns):\n",
      " #   Column         Non-Null Count  Dtype  \n",
      "---  ------         --------------  -----  \n",
      " 0   title          281 non-null    object \n",
      " 1   status         281 non-null    object \n",
      " 2   type           281 non-null    object \n",
      " 3   tenure         281 non-null    object \n",
      " 4   land_title     281 non-null    object \n",
      " 5   price          281 non-null    float64\n",
      " 6   built_up_size  281 non-null    object \n",
      " 7   bedroom        281 non-null    int64  \n",
      " 8   bathroom       281 non-null    int64  \n",
      " 9   car_park       281 non-null    int64  \n",
      " 10  address        281 non-null    object \n",
      " 11  description    281 non-null    object \n",
      " 12  link           281 non-null    object \n",
      "dtypes: float64(1), int64(3), object(9)\n",
      "memory usage: 28.7+ KB\n"
     ]
    }
   ],
   "source": [
    "# check the data information\n",
    "df.info()"
   ]
  },
  {
   "cell_type": "markdown",
   "id": "98f31283-12ce-4081-802f-a1ed8904f8b3",
   "metadata": {
    "tags": []
   },
   "source": [
    "This dataset contains 281 rows and there is no null value in the dataset.\n",
    "Data type for some columns need to be corrected\n",
    "- title, object to string\n",
    "- status, object to string\n",
    "- type, object to string\n",
    "- tenure, object to string\n",
    "- land_title, object to string\n",
    "- address, object to string\n",
    "- built_up_size, object to int64\n",
    "\n",
    "Description can be used in WorldCloud visualization but not in the analysis here.\n",
    "We can drop the columns for description and link since these columns are not needed for the analyze here."
   ]
  },
  {
   "cell_type": "code",
   "execution_count": 119,
   "id": "63553011-c1b5-498f-8978-5da4dadbb608",
   "metadata": {
    "tags": []
   },
   "outputs": [
    {
     "data": {
      "text/plain": [
       "status\n",
       "New Launch                           146\n",
       "Open for Sale                         76\n",
       "Open for Registration                 33\n",
       "Completed Project                     23\n",
       "Open for SaleGreat Property Deals      3\n",
       "Name: count, dtype: int64"
      ]
     },
     "execution_count": 119,
     "metadata": {},
     "output_type": "execute_result"
    }
   ],
   "source": [
    "# check for the value counts for status\n",
    "df.status.value_counts()"
   ]
  },
  {
   "cell_type": "markdown",
   "id": "20a50d12-52fe-44d4-af19-5e4343da0e4b",
   "metadata": {},
   "source": [
    "3 rows with status \"Open for SaleGreat Property Deals\" and this sentence looks like a combination of \"Open for Sale\" and \"Great Property Deals\". We can go to the project link and check whether this is a data issue and change the status accordingly."
   ]
  },
  {
   "cell_type": "code",
   "execution_count": 120,
   "id": "7bde9e40-5316-4bfc-91ab-3ef2bceb355b",
   "metadata": {},
   "outputs": [
    {
     "data": {
      "text/plain": [
       "type\n",
       "Serviced Residence          71\n",
       "2-sty Terrace/Link House    68\n",
       "Condominium                 39\n",
       "Apartment                   25\n",
       "Semi-detached House         20\n",
       "Shop Office                 14\n",
       "Bungalow                     8\n",
       "1-sty Terrace/Link House     6\n",
       "Townhouse                    5\n",
       "Shop                         4\n",
       "Detached factory             4\n",
       "Industrial Land              3\n",
       "Cluster House                3\n",
       "Soho                         3\n",
       "Semi-D factory               2\n",
       "Suites                       2\n",
       "4-sty Terrace/Link House     2\n",
       "Sovo                         1\n",
       "Office                       1\n",
       "Name: count, dtype: int64"
      ]
     },
     "execution_count": 120,
     "metadata": {},
     "output_type": "execute_result"
    }
   ],
   "source": [
    "# check for the value counts for type\n",
    "df.type.value_counts()"
   ]
  },
  {
   "cell_type": "markdown",
   "id": "878e03d7-e301-40fc-9889-c60e7b040892",
   "metadata": {},
   "source": [
    "We can add one column to categorize property type to \"House\", \"Factory\", \"Land\" and \"Shop or Office\""
   ]
  },
  {
   "cell_type": "code",
   "execution_count": 121,
   "id": "aa656ee3-a9f4-4c4e-9153-53b8b61b4ea0",
   "metadata": {},
   "outputs": [
    {
     "data": {
      "text/plain": [
       "tenure\n",
       "Freehold               188\n",
       "Leasehold               84\n",
       "Lease Tenancy            3\n",
       "Unknown                  3\n",
       "Lease                    2\n",
       "Malay Reserved Land      1\n",
       "Name: count, dtype: int64"
      ]
     },
     "execution_count": 121,
     "metadata": {},
     "output_type": "execute_result"
    }
   ],
   "source": [
    "# check for the value counts for tenure\n",
    "df.tenure.value_counts()"
   ]
  },
  {
   "cell_type": "markdown",
   "id": "d61ad683-685f-47fd-bf1c-8d6ffdad61a8",
   "metadata": {},
   "source": [
    "We can change the tenure for \"Lease Tenancy\" and \"Lease\" to \"Leasehold\".<br>\n",
    "We can also get the property information from link for rows with \"Unknown\" tenure and correct it."
   ]
  },
  {
   "cell_type": "code",
   "execution_count": 122,
   "id": "1d893069-6490-42ca-847f-aa202c740086",
   "metadata": {},
   "outputs": [
    {
     "data": {
      "text/plain": [
       "land_title\n",
       "Residential    183\n",
       "Commercial      80\n",
       "Industrial       9\n",
       "Unknown          9\n",
       "Name: count, dtype: int64"
      ]
     },
     "execution_count": 122,
     "metadata": {},
     "output_type": "execute_result"
    }
   ],
   "source": [
    "# check for the value counts for tenure\n",
    "df.land_title.value_counts()"
   ]
  },
  {
   "cell_type": "markdown",
   "id": "82f97825-a276-43bc-8f5c-9d410db08c5f",
   "metadata": {},
   "source": [
    "We can also get the property information from link for rows with \"Unknown\" land title and correct it."
   ]
  },
  {
   "cell_type": "markdown",
   "id": "143cb22b-6e70-49e5-b51b-f6d79ad3d879",
   "metadata": {},
   "source": [
    "### Preprocess the Dataset"
   ]
  },
  {
   "cell_type": "code",
   "execution_count": 123,
   "id": "c1e049f0-60d1-4616-9e9c-4e23bef25854",
   "metadata": {},
   "outputs": [],
   "source": [
    "# change the data type object to string\n",
    "df.title = df.title.astype('string')\n",
    "df.status = df.status.astype('string')\n",
    "df.type = df.type.astype('string')\n",
    "df.tenure = df.tenure.astype('string')\n",
    "df.land_title = df.land_title.astype('string')\n",
    "df.address = df.address.astype('string')"
   ]
  },
  {
   "cell_type": "code",
   "execution_count": 124,
   "id": "b868e927-fd64-4d2d-9a58-74979cb26194",
   "metadata": {},
   "outputs": [
    {
     "name": "stdout",
     "output_type": "stream",
     "text": [
      "<class 'pandas.core.frame.DataFrame'>\n",
      "RangeIndex: 281 entries, 0 to 280\n",
      "Data columns (total 13 columns):\n",
      " #   Column         Non-Null Count  Dtype  \n",
      "---  ------         --------------  -----  \n",
      " 0   title          281 non-null    string \n",
      " 1   status         281 non-null    string \n",
      " 2   type           281 non-null    string \n",
      " 3   tenure         281 non-null    string \n",
      " 4   land_title     281 non-null    string \n",
      " 5   price          281 non-null    float64\n",
      " 6   built_up_size  281 non-null    int64  \n",
      " 7   bedroom        281 non-null    int64  \n",
      " 8   bathroom       281 non-null    int64  \n",
      " 9   car_park       281 non-null    int64  \n",
      " 10  address        281 non-null    string \n",
      " 11  description    281 non-null    object \n",
      " 12  link           281 non-null    object \n",
      "dtypes: float64(1), int64(4), object(2), string(6)\n",
      "memory usage: 28.7+ KB\n"
     ]
    }
   ],
   "source": [
    "# change the data type object to int64\n",
    "# from head we noticed that first 3 rows of build_up_size contains string value\n",
    "def get_built_up_size(text):\n",
    "    # value of build up size in the data can be in any \n",
    "    # following format, \"953 sq. ft.\", \"1,180 sq. ft.\", \n",
    "    # \"From 1,200 sq. ft.\", \"1,778 - 2,137 sqft\"\n",
    "    # \"2,322 – 2,442 sqft\", \"1,047 / 1,096 sq. ft.\"\n",
    "    text = re.sub(r'[^0-9-–/]', '', text)\n",
    "    # get the left (min) value\n",
    "    match = re.search(r'\\D*(\\d+)', text)\n",
    "    text = match.group(1)\n",
    "    return int(text)\n",
    "\n",
    "df.built_up_size = df.built_up_size.apply(lambda row: get_built_up_size(row))\n",
    "df.info()"
   ]
  },
  {
   "cell_type": "code",
   "execution_count": 125,
   "id": "f52f8bca-fa9f-488e-87df-39a897bbb1e0",
   "metadata": {},
   "outputs": [
    {
     "name": "stdout",
     "output_type": "stream",
     "text": [
      "243    https://www.iproperty.com.my/new-property/property/petaling-jaya/the-atera-petaling-jaya/new-6546/\n",
      "244    https://www.iproperty.com.my/new-property/property/petaling-jaya/the-atera-petaling-jaya/new-6546/\n",
      "245    https://www.iproperty.com.my/new-property/property/petaling-jaya/the-atera-petaling-jaya/new-6546/\n",
      "Name: link, dtype: object\n"
     ]
    }
   ],
   "source": [
    "# check property information with the link for \"Open for SaleGreat Property Deals\" status \n",
    "pd.set_option('display.max_colwidth', None)\n",
    "print(df[df.status=='Open for SaleGreat Property Deals'].link)\n",
    "pd.set_option('display.max_colwidth', 20)"
   ]
  },
  {
   "cell_type": "code",
   "execution_count": 126,
   "id": "59a07627-5b01-4895-9432-d97a8e2cf1e6",
   "metadata": {},
   "outputs": [
    {
     "data": {
      "text/plain": [
       "status\n",
       "New Launch               146\n",
       "Open for Sale             79\n",
       "Open for Registration     33\n",
       "Completed Project         23\n",
       "Name: count, dtype: Int64"
      ]
     },
     "execution_count": 126,
     "metadata": {},
     "output_type": "execute_result"
    }
   ],
   "source": [
    "# status for the rows with status \"Open for SaleGreat Property Deals\" is \"Open for Sale\" from the property information page\n",
    "# change the status to \"Open for Sale\"\n",
    "df.loc[df.status == 'Open for SaleGreat Property Deals', 'status'] = 'Open for Sale'\n",
    "df.status.value_counts()"
   ]
  },
  {
   "cell_type": "code",
   "execution_count": 127,
   "id": "03eea225-d239-4cd2-806c-4daf5c2e9a38",
   "metadata": {},
   "outputs": [
    {
     "data": {
      "text/plain": [
       "category\n",
       "House             252\n",
       "Shop or Office     20\n",
       "Factory             6\n",
       "Land                3\n",
       "Name: count, dtype: int64"
      ]
     },
     "execution_count": 127,
     "metadata": {},
     "output_type": "execute_result"
    }
   ],
   "source": [
    "# add one column to categorize property type to \"House\", \"Factory\", \"Land\" and \"Shop or Office\"\n",
    "def get_propert_type(text):\n",
    "    if text in ('Detached factory', 'Semi-D factory'):\n",
    "        return \"Factory\"\n",
    "    elif text in ('Shop Office', 'Shop', 'Sovo', 'Office'):\n",
    "        return \"Shop or Office\"\n",
    "    elif text in ('Industrial Land'):\n",
    "        return \"Land\"    \n",
    "    else:\n",
    "        # note that for this EDA we consider Soho as house\n",
    "        # although it can be used as office also\n",
    "        return \"House\"\n",
    "\n",
    "df['category']= df.type.apply(lambda row: get_propert_type(row))\n",
    "df.category.value_counts()"
   ]
  },
  {
   "cell_type": "code",
   "execution_count": 128,
   "id": "0e779325-7c09-48b7-b6f9-3b832552b446",
   "metadata": {},
   "outputs": [],
   "source": [
    "# change the tenure for \"Lease Tenancy\" and \"Lease\" to \"Leasehold\".\n",
    "df.loc[df.tenure == 'Lease Tenancy', 'tenure'] = 'Leasehold'\n",
    "df.loc[df.tenure == 'Lease', 'tenure'] = 'Leasehold'"
   ]
  },
  {
   "cell_type": "code",
   "execution_count": 129,
   "id": "ebc40c18-2d52-4330-a2be-22dd156f378a",
   "metadata": {},
   "outputs": [
    {
     "name": "stdout",
     "output_type": "stream",
     "text": [
      "221    https://www.iproperty.com.my/new-property/property/kuala-langat/tropicana-alam-phase-1-a/new-6636/\n",
      "222    https://www.iproperty.com.my/new-property/property/kuala-langat/tropicana-alam-phase-1-a/new-6636/\n",
      "223    https://www.iproperty.com.my/new-property/property/kuala-langat/tropicana-alam-phase-1-a/new-6636/\n",
      "Name: link, dtype: object\n"
     ]
    }
   ],
   "source": [
    "# check property information with the link for \"Unknown\" tenure\n",
    "pd.set_option('display.max_colwidth', None)\n",
    "print(df[df.tenure=='Unknown'].link)\n",
    "pd.set_option('display.max_colwidth', 20)"
   ]
  },
  {
   "cell_type": "code",
   "execution_count": 130,
   "id": "f77eba20-f5af-4257-a839-29082cd62532",
   "metadata": {},
   "outputs": [
    {
     "data": {
      "text/plain": [
       "tenure\n",
       "Freehold               188\n",
       "Leasehold               92\n",
       "Malay Reserved Land      1\n",
       "Name: count, dtype: Int64"
      ]
     },
     "execution_count": 130,
     "metadata": {},
     "output_type": "execute_result"
    }
   ],
   "source": [
    "# tenure from iProperty property information page is Unknown\n",
    "# googled the propety information showing the tenure is Leasehold\n",
    "df.loc[df.tenure == 'Unknown', 'tenure'] = 'Leasehold'\n",
    "df.tenure.value_counts()"
   ]
  },
  {
   "cell_type": "code",
   "execution_count": 131,
   "id": "a4f2a695-0e3d-40a6-b2e8-7735bfa06a84",
   "metadata": {},
   "outputs": [
    {
     "name": "stdout",
     "output_type": "stream",
     "text": [
      "35               https://www.iproperty.com.my/new-property/property/nilai/nilai-impian-emilia-3/new-6510/\n",
      "36               https://www.iproperty.com.my/new-property/property/nilai/nilai-impian-emilia-3/new-6510/\n",
      "37               https://www.iproperty.com.my/new-property/property/nilai/nilai-impian-emilia-3/new-6510/\n",
      "54              https://www.iproperty.com.my/new-property/property/kl-city/legasi-kampong-bharu/new-5936/\n",
      "55              https://www.iproperty.com.my/new-property/property/kl-city/legasi-kampong-bharu/new-5936/\n",
      "56              https://www.iproperty.com.my/new-property/property/kl-city/legasi-kampong-bharu/new-5936/\n",
      "221    https://www.iproperty.com.my/new-property/property/kuala-langat/tropicana-alam-phase-1-a/new-6636/\n",
      "222    https://www.iproperty.com.my/new-property/property/kuala-langat/tropicana-alam-phase-1-a/new-6636/\n",
      "223    https://www.iproperty.com.my/new-property/property/kuala-langat/tropicana-alam-phase-1-a/new-6636/\n",
      "Name: link, dtype: object\n"
     ]
    }
   ],
   "source": [
    "# check property information with the link for \"Unknown\" land title\n",
    "pd.set_option('display.max_colwidth', None)\n",
    "print(df[df.land_title=='Unknown'].link)\n",
    "pd.set_option('display.max_colwidth', 20)"
   ]
  },
  {
   "cell_type": "code",
   "execution_count": 132,
   "id": "5e17aee0-5d49-4f2b-a768-adf77a5410a4",
   "metadata": {},
   "outputs": [
    {
     "data": {
      "text/plain": [
       "land_title\n",
       "Residential    192\n",
       "Commercial      80\n",
       "Industrial       9\n",
       "Name: count, dtype: Int64"
      ]
     },
     "execution_count": 132,
     "metadata": {},
     "output_type": "execute_result"
    }
   ],
   "source": [
    "# land title from iProperty property information page is Unknown\n",
    "# googled the propety information showing land title is Residential\n",
    "df.loc[df.land_title == 'Unknown', 'land_title'] = 'Residential'\n",
    "df.land_title.value_counts()"
   ]
  },
  {
   "cell_type": "code",
   "execution_count": 133,
   "id": "5219ea59-75db-4173-85df-ef240907817a",
   "metadata": {},
   "outputs": [],
   "source": [
    "# add city and state columns\n",
    "def get_city(text):\n",
    "    split_items = text.split(',')\n",
    "    city = split_items[-2]\n",
    "    state = split_items[-1]\n",
    "\n",
    "df['city']= df.address.apply(lambda row: row.split(',')[-2].strip())\n",
    "df['state']= df.address.apply(lambda row: row.split(',')[-1].strip())"
   ]
  },
  {
   "cell_type": "code",
   "execution_count": 134,
   "id": "27971fb3-07b2-407e-a8d5-229656962d9c",
   "metadata": {},
   "outputs": [
    {
     "data": {
      "text/plain": [
       "city\n",
       "Shah Alam                     26\n",
       "Johor Bahru                   17\n",
       "Iskandar Puteri (Nusajaya)    14\n",
       "Semenyih                      14\n",
       "Petaling Jaya                 12\n",
       "Puchong                       11\n",
       "Subang Jaya                   10\n",
       "Kajang                        10\n",
       "Rawang                        10\n",
       "Kuala Langat                   9\n",
       "KL City                        7\n",
       "Pasir Gudang                   7\n",
       "Bangsar                        6\n",
       "Gelang Patah                   6\n",
       "Mont Kiara                     6\n",
       "Bandar Puncak Alam             6\n",
       "Cyberjaya                      6\n",
       "Seri Kembangan                 6\n",
       "Ampang Hilir                   6\n",
       "Sepang                         6\n",
       "Nilai                          6\n",
       "Setapak                        6\n",
       "Bayan Lepas                    5\n",
       "Labu                           4\n",
       "Bukit Bintang                  4\n",
       "Muar                           3\n",
       "Kota Kinabalu                  3\n",
       "Mount Austin                   3\n",
       "Kepala Batas                   3\n",
       "Pulau Langkawi                 3\n",
       "Kayu Ara                       3\n",
       "Seremban                       3\n",
       "Ara Damansara                  3\n",
       "Batu Ferringhi                 3\n",
       "Ulu Tiram                      3\n",
       "Klang                          3\n",
       "Kuala Terengganu               2\n",
       "Ampang                         2\n",
       "Masai                          2\n",
       "Batu Pahat                     2\n",
       "Gombak                         2\n",
       "Bangi                          2\n",
       "Kuala Selangor                 2\n",
       "Bukit Jalil                    2\n",
       "Seberang Perai                 2\n",
       "Skudai                         2\n",
       "Sungai Buloh                   2\n",
       "Telok Panglima Garang          2\n",
       "Raub                           1\n",
       "Sungai Besi                    1\n",
       "Dengkil                        1\n",
       "Georgetown                     1\n",
       "Name: count, dtype: int64"
      ]
     },
     "execution_count": 134,
     "metadata": {},
     "output_type": "execute_result"
    }
   ],
   "source": [
    "df.city.value_counts()"
   ]
  },
  {
   "cell_type": "code",
   "execution_count": 135,
   "id": "8aaf8189-356b-4fff-9f62-9af08df80ee6",
   "metadata": {},
   "outputs": [
    {
     "data": {
      "text/plain": [
       "state\n",
       "Selangor           148\n",
       "Johor               59\n",
       "Kuala Lumpur        38\n",
       "Penang              14\n",
       "Negeri Sembilan     13\n",
       "Sabah                3\n",
       "Kedah                3\n",
       "Terengganu           2\n",
       "Pahang               1\n",
       "Name: count, dtype: int64"
      ]
     },
     "execution_count": 135,
     "metadata": {},
     "output_type": "execute_result"
    }
   ],
   "source": [
    "df.state.value_counts()"
   ]
  },
  {
   "cell_type": "code",
   "execution_count": 136,
   "id": "d902814c-6ced-41af-98af-5a92a9c296ba",
   "metadata": {},
   "outputs": [
    {
     "data": {
      "text/html": [
       "<div>\n",
       "<style scoped>\n",
       "    .dataframe tbody tr th:only-of-type {\n",
       "        vertical-align: middle;\n",
       "    }\n",
       "\n",
       "    .dataframe tbody tr th {\n",
       "        vertical-align: top;\n",
       "    }\n",
       "\n",
       "    .dataframe thead th {\n",
       "        text-align: right;\n",
       "    }\n",
       "</style>\n",
       "<table border=\"1\" class=\"dataframe\">\n",
       "  <thead>\n",
       "    <tr style=\"text-align: right;\">\n",
       "      <th></th>\n",
       "      <th>title</th>\n",
       "      <th>status</th>\n",
       "      <th>type</th>\n",
       "      <th>tenure</th>\n",
       "      <th>land_title</th>\n",
       "      <th>price</th>\n",
       "      <th>built_up_size</th>\n",
       "      <th>bedroom</th>\n",
       "      <th>bathroom</th>\n",
       "      <th>car_park</th>\n",
       "      <th>category</th>\n",
       "      <th>city</th>\n",
       "      <th>state</th>\n",
       "    </tr>\n",
       "  </thead>\n",
       "  <tbody>\n",
       "    <tr>\n",
       "      <th>0</th>\n",
       "      <td>Amverton Greens</td>\n",
       "      <td>Open for Sale</td>\n",
       "      <td>Apartment</td>\n",
       "      <td>Freehold</td>\n",
       "      <td>Residential</td>\n",
       "      <td>473499.0</td>\n",
       "      <td>953</td>\n",
       "      <td>3</td>\n",
       "      <td>2</td>\n",
       "      <td>2</td>\n",
       "      <td>House</td>\n",
       "      <td>Shah Alam</td>\n",
       "      <td>Selangor</td>\n",
       "    </tr>\n",
       "    <tr>\n",
       "      <th>1</th>\n",
       "      <td>Amverton Greens</td>\n",
       "      <td>Open for Sale</td>\n",
       "      <td>Apartment</td>\n",
       "      <td>Freehold</td>\n",
       "      <td>Residential</td>\n",
       "      <td>555579.0</td>\n",
       "      <td>1068</td>\n",
       "      <td>3</td>\n",
       "      <td>2</td>\n",
       "      <td>2</td>\n",
       "      <td>House</td>\n",
       "      <td>Shah Alam</td>\n",
       "      <td>Selangor</td>\n",
       "    </tr>\n",
       "    <tr>\n",
       "      <th>2</th>\n",
       "      <td>Amverton Greens</td>\n",
       "      <td>Open for Sale</td>\n",
       "      <td>Apartment</td>\n",
       "      <td>Freehold</td>\n",
       "      <td>Residential</td>\n",
       "      <td>582084.0</td>\n",
       "      <td>1180</td>\n",
       "      <td>4</td>\n",
       "      <td>4</td>\n",
       "      <td>2</td>\n",
       "      <td>House</td>\n",
       "      <td>Shah Alam</td>\n",
       "      <td>Selangor</td>\n",
       "    </tr>\n",
       "    <tr>\n",
       "      <th>3</th>\n",
       "      <td>JHomes</td>\n",
       "      <td>Open for Sale</td>\n",
       "      <td>Serviced Residence</td>\n",
       "      <td>Freehold</td>\n",
       "      <td>Residential</td>\n",
       "      <td>676800.0</td>\n",
       "      <td>1464</td>\n",
       "      <td>4</td>\n",
       "      <td>3</td>\n",
       "      <td>2</td>\n",
       "      <td>House</td>\n",
       "      <td>Kajang</td>\n",
       "      <td>Selangor</td>\n",
       "    </tr>\n",
       "    <tr>\n",
       "      <th>4</th>\n",
       "      <td>JHomes</td>\n",
       "      <td>Open for Sale</td>\n",
       "      <td>Serviced Residence</td>\n",
       "      <td>Freehold</td>\n",
       "      <td>Residential</td>\n",
       "      <td>678800.0</td>\n",
       "      <td>1464</td>\n",
       "      <td>4</td>\n",
       "      <td>3</td>\n",
       "      <td>2</td>\n",
       "      <td>House</td>\n",
       "      <td>Kajang</td>\n",
       "      <td>Selangor</td>\n",
       "    </tr>\n",
       "  </tbody>\n",
       "</table>\n",
       "</div>"
      ],
      "text/plain": [
       "             title         status                type    tenure   land_title  \\\n",
       "0  Amverton Greens  Open for Sale           Apartment  Freehold  Residential   \n",
       "1  Amverton Greens  Open for Sale           Apartment  Freehold  Residential   \n",
       "2  Amverton Greens  Open for Sale           Apartment  Freehold  Residential   \n",
       "3           JHomes  Open for Sale  Serviced Residence  Freehold  Residential   \n",
       "4           JHomes  Open for Sale  Serviced Residence  Freehold  Residential   \n",
       "\n",
       "      price  built_up_size  bedroom  bathroom  car_park category       city  \\\n",
       "0  473499.0            953        3         2         2    House  Shah Alam   \n",
       "1  555579.0           1068        3         2         2    House  Shah Alam   \n",
       "2  582084.0           1180        4         4         2    House  Shah Alam   \n",
       "3  676800.0           1464        4         3         2    House     Kajang   \n",
       "4  678800.0           1464        4         3         2    House     Kajang   \n",
       "\n",
       "      state  \n",
       "0  Selangor  \n",
       "1  Selangor  \n",
       "2  Selangor  \n",
       "3  Selangor  \n",
       "4  Selangor  "
      ]
     },
     "execution_count": 136,
     "metadata": {},
     "output_type": "execute_result"
    }
   ],
   "source": [
    "# drop unused columns\n",
    "df.drop(['address', 'link', 'description'], axis=1, inplace=True)\n",
    "df.head()"
   ]
  },
  {
   "cell_type": "code",
   "execution_count": 141,
   "id": "1222ecfe-b8c6-4577-9398-8749739e6eeb",
   "metadata": {},
   "outputs": [
    {
     "data": {
      "text/html": [
       "<div>\n",
       "<style scoped>\n",
       "    .dataframe tbody tr th:only-of-type {\n",
       "        vertical-align: middle;\n",
       "    }\n",
       "\n",
       "    .dataframe tbody tr th {\n",
       "        vertical-align: top;\n",
       "    }\n",
       "\n",
       "    .dataframe thead th {\n",
       "        text-align: right;\n",
       "    }\n",
       "</style>\n",
       "<table border=\"1\" class=\"dataframe\">\n",
       "  <thead>\n",
       "    <tr style=\"text-align: right;\">\n",
       "      <th></th>\n",
       "      <th>title</th>\n",
       "      <th>status</th>\n",
       "      <th>type</th>\n",
       "      <th>tenure</th>\n",
       "      <th>land_title</th>\n",
       "      <th>price</th>\n",
       "      <th>built_up_size</th>\n",
       "      <th>bedroom</th>\n",
       "      <th>bathroom</th>\n",
       "      <th>car_park</th>\n",
       "      <th>category</th>\n",
       "      <th>city</th>\n",
       "      <th>state</th>\n",
       "    </tr>\n",
       "  </thead>\n",
       "  <tbody>\n",
       "    <tr>\n",
       "      <th>10</th>\n",
       "      <td>Maya Ara Residences</td>\n",
       "      <td>New Launch</td>\n",
       "      <td>Serviced Residence</td>\n",
       "      <td>Freehold</td>\n",
       "      <td>Commercial</td>\n",
       "      <td>594800.0</td>\n",
       "      <td>764</td>\n",
       "      <td>2</td>\n",
       "      <td>2</td>\n",
       "      <td>0</td>\n",
       "      <td>House</td>\n",
       "      <td>Ara Damansara</td>\n",
       "      <td>Selangor</td>\n",
       "    </tr>\n",
       "    <tr>\n",
       "      <th>28</th>\n",
       "      <td>Ilham Residence 3</td>\n",
       "      <td>New Launch</td>\n",
       "      <td>2-sty Terrace/Li...</td>\n",
       "      <td>Freehold</td>\n",
       "      <td>Residential</td>\n",
       "      <td>903888.0</td>\n",
       "      <td>1964</td>\n",
       "      <td>4</td>\n",
       "      <td>4</td>\n",
       "      <td>2</td>\n",
       "      <td>House</td>\n",
       "      <td>Shah Alam</td>\n",
       "      <td>Selangor</td>\n",
       "    </tr>\n",
       "    <tr>\n",
       "      <th>140</th>\n",
       "      <td>J.Satine Residen...</td>\n",
       "      <td>New Launch</td>\n",
       "      <td>Apartment</td>\n",
       "      <td>Leasehold</td>\n",
       "      <td>Commercial</td>\n",
       "      <td>300000.0</td>\n",
       "      <td>800</td>\n",
       "      <td>3</td>\n",
       "      <td>2</td>\n",
       "      <td>1</td>\n",
       "      <td>House</td>\n",
       "      <td>Setapak</td>\n",
       "      <td>Kuala Lumpur</td>\n",
       "    </tr>\n",
       "    <tr>\n",
       "      <th>157</th>\n",
       "      <td>Casablanca 3</td>\n",
       "      <td>Open for Sale</td>\n",
       "      <td>Cluster House</td>\n",
       "      <td>Freehold</td>\n",
       "      <td>Residential</td>\n",
       "      <td>1702800.0</td>\n",
       "      <td>3048</td>\n",
       "      <td>4</td>\n",
       "      <td>5</td>\n",
       "      <td>2</td>\n",
       "      <td>House</td>\n",
       "      <td>Shah Alam</td>\n",
       "      <td>Selangor</td>\n",
       "    </tr>\n",
       "    <tr>\n",
       "      <th>167</th>\n",
       "      <td>Phase 6M, Rini H...</td>\n",
       "      <td>Open for Sale</td>\n",
       "      <td>2-sty Terrace/Li...</td>\n",
       "      <td>Leasehold</td>\n",
       "      <td>Residential</td>\n",
       "      <td>672000.0</td>\n",
       "      <td>2280</td>\n",
       "      <td>4</td>\n",
       "      <td>4</td>\n",
       "      <td>0</td>\n",
       "      <td>House</td>\n",
       "      <td>Skudai</td>\n",
       "      <td>Johor</td>\n",
       "    </tr>\n",
       "    <tr>\n",
       "      <th>169</th>\n",
       "      <td>Isadora</td>\n",
       "      <td>New Launch</td>\n",
       "      <td>2-sty Terrace/Li...</td>\n",
       "      <td>Freehold</td>\n",
       "      <td>Residential</td>\n",
       "      <td>1158000.0</td>\n",
       "      <td>2266</td>\n",
       "      <td>4</td>\n",
       "      <td>4</td>\n",
       "      <td>4</td>\n",
       "      <td>House</td>\n",
       "      <td>Cyberjaya</td>\n",
       "      <td>Selangor</td>\n",
       "    </tr>\n",
       "    <tr>\n",
       "      <th>209</th>\n",
       "      <td>Serai Avenue 2 &amp;...</td>\n",
       "      <td>Open for Registr...</td>\n",
       "      <td>Shop Office</td>\n",
       "      <td>Leasehold</td>\n",
       "      <td>Commercial</td>\n",
       "      <td>1368000.0</td>\n",
       "      <td>2656</td>\n",
       "      <td>0</td>\n",
       "      <td>4</td>\n",
       "      <td>0</td>\n",
       "      <td>Shop or Office</td>\n",
       "      <td>Rawang</td>\n",
       "      <td>Selangor</td>\n",
       "    </tr>\n",
       "    <tr>\n",
       "      <th>244</th>\n",
       "      <td>The Atera, Petal...</td>\n",
       "      <td>Open for Sale</td>\n",
       "      <td>Serviced Residence</td>\n",
       "      <td>Leasehold</td>\n",
       "      <td>Commercial</td>\n",
       "      <td>633800.0</td>\n",
       "      <td>775</td>\n",
       "      <td>2</td>\n",
       "      <td>2</td>\n",
       "      <td>0</td>\n",
       "      <td>House</td>\n",
       "      <td>Petaling Jaya</td>\n",
       "      <td>Selangor</td>\n",
       "    </tr>\n",
       "    <tr>\n",
       "      <th>274</th>\n",
       "      <td>Setia Versa</td>\n",
       "      <td>Open for Sale</td>\n",
       "      <td>Detached factory</td>\n",
       "      <td>Freehold</td>\n",
       "      <td>Industrial</td>\n",
       "      <td>7700000.0</td>\n",
       "      <td>20013</td>\n",
       "      <td>0</td>\n",
       "      <td>0</td>\n",
       "      <td>0</td>\n",
       "      <td>Factory</td>\n",
       "      <td>Gelang Patah</td>\n",
       "      <td>Johor</td>\n",
       "    </tr>\n",
       "  </tbody>\n",
       "</table>\n",
       "</div>"
      ],
      "text/plain": [
       "                   title               status                 type     tenure  \\\n",
       "10   Maya Ara Residences           New Launch   Serviced Residence   Freehold   \n",
       "28     Ilham Residence 3           New Launch  2-sty Terrace/Li...   Freehold   \n",
       "140  J.Satine Residen...           New Launch            Apartment  Leasehold   \n",
       "157         Casablanca 3        Open for Sale        Cluster House   Freehold   \n",
       "167  Phase 6M, Rini H...        Open for Sale  2-sty Terrace/Li...  Leasehold   \n",
       "169              Isadora           New Launch  2-sty Terrace/Li...   Freehold   \n",
       "209  Serai Avenue 2 &...  Open for Registr...          Shop Office  Leasehold   \n",
       "244  The Atera, Petal...        Open for Sale   Serviced Residence  Leasehold   \n",
       "274          Setia Versa        Open for Sale     Detached factory   Freehold   \n",
       "\n",
       "      land_title      price  built_up_size  bedroom  bathroom  car_park  \\\n",
       "10    Commercial   594800.0            764        2         2         0   \n",
       "28   Residential   903888.0           1964        4         4         2   \n",
       "140   Commercial   300000.0            800        3         2         1   \n",
       "157  Residential  1702800.0           3048        4         5         2   \n",
       "167  Residential   672000.0           2280        4         4         0   \n",
       "169  Residential  1158000.0           2266        4         4         4   \n",
       "209   Commercial  1368000.0           2656        0         4         0   \n",
       "244   Commercial   633800.0            775        2         2         0   \n",
       "274   Industrial  7700000.0          20013        0         0         0   \n",
       "\n",
       "           category           city         state  \n",
       "10            House  Ara Damansara      Selangor  \n",
       "28            House      Shah Alam      Selangor  \n",
       "140           House        Setapak  Kuala Lumpur  \n",
       "157           House      Shah Alam      Selangor  \n",
       "167           House         Skudai         Johor  \n",
       "169           House      Cyberjaya      Selangor  \n",
       "209  Shop or Office         Rawang      Selangor  \n",
       "244           House  Petaling Jaya      Selangor  \n",
       "274         Factory   Gelang Patah         Johor  "
      ]
     },
     "execution_count": 141,
     "metadata": {},
     "output_type": "execute_result"
    }
   ],
   "source": [
    "# some of the iProperty project information pages consist dirty data that will result in duplication of records\n",
    "# check is the data frame contains any duplicated records\n",
    "df[df.duplicated()]"
   ]
  },
  {
   "cell_type": "code",
   "execution_count": 144,
   "id": "158c1b6d-97f9-4fb1-98c0-fb8550533832",
   "metadata": {},
   "outputs": [
    {
     "data": {
      "text/html": [
       "<div>\n",
       "<style scoped>\n",
       "    .dataframe tbody tr th:only-of-type {\n",
       "        vertical-align: middle;\n",
       "    }\n",
       "\n",
       "    .dataframe tbody tr th {\n",
       "        vertical-align: top;\n",
       "    }\n",
       "\n",
       "    .dataframe thead th {\n",
       "        text-align: right;\n",
       "    }\n",
       "</style>\n",
       "<table border=\"1\" class=\"dataframe\">\n",
       "  <thead>\n",
       "    <tr style=\"text-align: right;\">\n",
       "      <th></th>\n",
       "      <th>title</th>\n",
       "      <th>status</th>\n",
       "      <th>type</th>\n",
       "      <th>tenure</th>\n",
       "      <th>land_title</th>\n",
       "      <th>price</th>\n",
       "      <th>built_up_size</th>\n",
       "      <th>bedroom</th>\n",
       "      <th>bathroom</th>\n",
       "      <th>car_park</th>\n",
       "      <th>category</th>\n",
       "      <th>city</th>\n",
       "      <th>state</th>\n",
       "    </tr>\n",
       "  </thead>\n",
       "  <tbody>\n",
       "  </tbody>\n",
       "</table>\n",
       "</div>"
      ],
      "text/plain": [
       "Empty DataFrame\n",
       "Columns: [title, status, type, tenure, land_title, price, built_up_size, bedroom, bathroom, car_park, category, city, state]\n",
       "Index: []"
      ]
     },
     "execution_count": 144,
     "metadata": {},
     "output_type": "execute_result"
    }
   ],
   "source": [
    "# remove duplicated records from data frame\n",
    "df.drop_duplicates(inplace=True)\n",
    "df[df.duplicated()]"
   ]
  },
  {
   "cell_type": "markdown",
   "id": "2103b0da-f72c-4b54-be03-0870be06070a",
   "metadata": {},
   "source": [
    "### Analyze the Dataset"
   ]
  },
  {
   "cell_type": "code",
   "execution_count": 139,
   "id": "79a63dc2-0a38-41ca-9ebd-f05a5351ea9b",
   "metadata": {},
   "outputs": [],
   "source": [
    "# we only interested on housing price, get house category from the data frame\n",
    "df_house = df[df.category=='House']"
   ]
  }
 ],
 "metadata": {
  "kernelspec": {
   "display_name": "Python 3 (ipykernel)",
   "language": "python",
   "name": "python3"
  },
  "language_info": {
   "codemirror_mode": {
    "name": "ipython",
    "version": 3
   },
   "file_extension": ".py",
   "mimetype": "text/x-python",
   "name": "python",
   "nbconvert_exporter": "python",
   "pygments_lexer": "ipython3",
   "version": "3.10.13"
  }
 },
 "nbformat": 4,
 "nbformat_minor": 5
}
